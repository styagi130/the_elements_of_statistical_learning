{
 "cells": [
  {
   "cell_type": "code",
   "execution_count": 149,
   "id": "muslim-dayton",
   "metadata": {},
   "outputs": [],
   "source": [
    "import sys\n",
    "import pathlib\n",
    "import itertools\n",
    "import collections\n",
    "\n",
    "import pandas as pd\n",
    "import numpy as np\n",
    "import matplotlib.pyplot as plt\n",
    "\n",
    "from sklearn import linear_model, neighbors, metrics"
   ]
  },
  {
   "cell_type": "code",
   "execution_count": 34,
   "id": "infectious-ministry",
   "metadata": {},
   "outputs": [],
   "source": [
    "data_folder = pathlib.Path(\"./../../data/zipcode\")"
   ]
  },
  {
   "cell_type": "code",
   "execution_count": 35,
   "id": "executed-phase",
   "metadata": {},
   "outputs": [],
   "source": [
    "train_file = data_folder / f\"zip.train\"\n",
    "test_file = data_folder / f\"zip.test\"\n",
    "info_file = data_folder / \"zip.info.txt\""
   ]
  },
  {
   "cell_type": "markdown",
   "id": "secret-campaign",
   "metadata": {},
   "source": [
    "## Info about data"
   ]
  },
  {
   "cell_type": "code",
   "execution_count": 36,
   "id": "disturbed-newsletter",
   "metadata": {},
   "outputs": [
    {
     "name": "stdout",
     "output_type": "stream",
     "text": [
      "Normalized handwritten digits, automatically\n",
      "scanned from envelopes by the U.S. Postal Service. The original\n",
      "scanned digits are binary and of different sizes and orientations; the\n",
      "images  here have been deslanted and size normalized, resulting\n",
      "in 16 x 16 grayscale images (Le Cun et al., 1990).\n",
      "\n",
      "The data are in two gzipped files, and each line consists of the digit\n",
      "id (0-9) followed by the 256 grayscale values.\n",
      "\n",
      "There are 7291 training observations and 2007 test observations,\n",
      "distributed as follows:\n",
      "         0    1   2   3   4   5   6   7   8   9 Total\n",
      "Train 1194 1005 731 658 652 556 664 645 542 644 7291\n",
      " Test  359  264 198 166 200 160 170 147 166 177 2007\n",
      "\n",
      "or as proportions:\n",
      "         0    1   2    3    4    5    6    7    8    9 \n",
      "Train 0.16 0.14 0.1 0.09 0.09 0.08 0.09 0.09 0.07 0.09\n",
      " Test 0.18 0.13 0.1 0.08 0.10 0.08 0.08 0.07 0.08 0.09\n",
      "\n",
      "\n",
      "Alternatively, the training data are available as separate files per\n",
      "digit (and hence without the digit identifier in each row)\n",
      "\n",
      "The test set is notoriously \"difficult\", and a 2.5% error rate is\n",
      "excellent. These data were kindly made available by the neural network\n",
      "group at AT&T research labs (thanks to Yann Le Cunn).\n",
      "\n",
      "\n",
      "\n"
     ]
    }
   ],
   "source": [
    "print(info_file.read_text())"
   ]
  },
  {
   "cell_type": "markdown",
   "id": "immune-marshall",
   "metadata": {},
   "source": [
    "## Read training and test data"
   ]
  },
  {
   "cell_type": "code",
   "execution_count": 73,
   "id": "loose-lithuania",
   "metadata": {},
   "outputs": [],
   "source": [
    "train_df = pd.read_csv(train_file, header=None, sep=r\" \",engine=\"c\")\n",
    "test_df = pd.read_csv(test_file, header=None, sep=r\" \", engine=\"c\")"
   ]
  },
  {
   "cell_type": "code",
   "execution_count": 74,
   "id": "solved-purpose",
   "metadata": {},
   "outputs": [],
   "source": [
    "train_df.rename(columns = {0: \"label\"}, inplace = True)\n",
    "test_df.rename(columns = {0: \"label\"}, inplace = True)"
   ]
  },
  {
   "cell_type": "code",
   "execution_count": 75,
   "id": "fifth-selection",
   "metadata": {},
   "outputs": [
    {
     "data": {
      "text/html": [
       "<div>\n",
       "<style scoped>\n",
       "    .dataframe tbody tr th:only-of-type {\n",
       "        vertical-align: middle;\n",
       "    }\n",
       "\n",
       "    .dataframe tbody tr th {\n",
       "        vertical-align: top;\n",
       "    }\n",
       "\n",
       "    .dataframe thead th {\n",
       "        text-align: right;\n",
       "    }\n",
       "</style>\n",
       "<table border=\"1\" class=\"dataframe\">\n",
       "  <thead>\n",
       "    <tr style=\"text-align: right;\">\n",
       "      <th></th>\n",
       "      <th>label</th>\n",
       "      <th>1</th>\n",
       "      <th>2</th>\n",
       "      <th>3</th>\n",
       "      <th>4</th>\n",
       "      <th>5</th>\n",
       "      <th>6</th>\n",
       "      <th>7</th>\n",
       "      <th>8</th>\n",
       "      <th>9</th>\n",
       "      <th>...</th>\n",
       "      <th>248</th>\n",
       "      <th>249</th>\n",
       "      <th>250</th>\n",
       "      <th>251</th>\n",
       "      <th>252</th>\n",
       "      <th>253</th>\n",
       "      <th>254</th>\n",
       "      <th>255</th>\n",
       "      <th>256</th>\n",
       "      <th>257</th>\n",
       "    </tr>\n",
       "  </thead>\n",
       "  <tbody>\n",
       "    <tr>\n",
       "      <th>0</th>\n",
       "      <td>6.0</td>\n",
       "      <td>-1.0</td>\n",
       "      <td>-1.0</td>\n",
       "      <td>-1.0</td>\n",
       "      <td>-1.000</td>\n",
       "      <td>-1.000</td>\n",
       "      <td>-1.000</td>\n",
       "      <td>-1.000</td>\n",
       "      <td>-0.631</td>\n",
       "      <td>0.862</td>\n",
       "      <td>...</td>\n",
       "      <td>0.823</td>\n",
       "      <td>1.000</td>\n",
       "      <td>0.482</td>\n",
       "      <td>-0.474</td>\n",
       "      <td>-0.991</td>\n",
       "      <td>-1.000</td>\n",
       "      <td>-1.000</td>\n",
       "      <td>-1.000</td>\n",
       "      <td>-1.0</td>\n",
       "      <td>NaN</td>\n",
       "    </tr>\n",
       "    <tr>\n",
       "      <th>1</th>\n",
       "      <td>5.0</td>\n",
       "      <td>-1.0</td>\n",
       "      <td>-1.0</td>\n",
       "      <td>-1.0</td>\n",
       "      <td>-0.813</td>\n",
       "      <td>-0.671</td>\n",
       "      <td>-0.809</td>\n",
       "      <td>-0.887</td>\n",
       "      <td>-0.671</td>\n",
       "      <td>-0.853</td>\n",
       "      <td>...</td>\n",
       "      <td>-0.671</td>\n",
       "      <td>-0.033</td>\n",
       "      <td>0.761</td>\n",
       "      <td>0.762</td>\n",
       "      <td>0.126</td>\n",
       "      <td>-0.095</td>\n",
       "      <td>-0.671</td>\n",
       "      <td>-0.828</td>\n",
       "      <td>-1.0</td>\n",
       "      <td>NaN</td>\n",
       "    </tr>\n",
       "    <tr>\n",
       "      <th>2</th>\n",
       "      <td>4.0</td>\n",
       "      <td>-1.0</td>\n",
       "      <td>-1.0</td>\n",
       "      <td>-1.0</td>\n",
       "      <td>-1.000</td>\n",
       "      <td>-1.000</td>\n",
       "      <td>-1.000</td>\n",
       "      <td>-1.000</td>\n",
       "      <td>-1.000</td>\n",
       "      <td>-1.000</td>\n",
       "      <td>...</td>\n",
       "      <td>-1.000</td>\n",
       "      <td>-1.000</td>\n",
       "      <td>-0.109</td>\n",
       "      <td>1.000</td>\n",
       "      <td>-0.179</td>\n",
       "      <td>-1.000</td>\n",
       "      <td>-1.000</td>\n",
       "      <td>-1.000</td>\n",
       "      <td>-1.0</td>\n",
       "      <td>NaN</td>\n",
       "    </tr>\n",
       "    <tr>\n",
       "      <th>3</th>\n",
       "      <td>7.0</td>\n",
       "      <td>-1.0</td>\n",
       "      <td>-1.0</td>\n",
       "      <td>-1.0</td>\n",
       "      <td>-1.000</td>\n",
       "      <td>-1.000</td>\n",
       "      <td>-0.273</td>\n",
       "      <td>0.684</td>\n",
       "      <td>0.960</td>\n",
       "      <td>0.450</td>\n",
       "      <td>...</td>\n",
       "      <td>1.000</td>\n",
       "      <td>0.536</td>\n",
       "      <td>-0.987</td>\n",
       "      <td>-1.000</td>\n",
       "      <td>-1.000</td>\n",
       "      <td>-1.000</td>\n",
       "      <td>-1.000</td>\n",
       "      <td>-1.000</td>\n",
       "      <td>-1.0</td>\n",
       "      <td>NaN</td>\n",
       "    </tr>\n",
       "    <tr>\n",
       "      <th>4</th>\n",
       "      <td>3.0</td>\n",
       "      <td>-1.0</td>\n",
       "      <td>-1.0</td>\n",
       "      <td>-1.0</td>\n",
       "      <td>-1.000</td>\n",
       "      <td>-1.000</td>\n",
       "      <td>-0.928</td>\n",
       "      <td>-0.204</td>\n",
       "      <td>0.751</td>\n",
       "      <td>0.466</td>\n",
       "      <td>...</td>\n",
       "      <td>0.639</td>\n",
       "      <td>1.000</td>\n",
       "      <td>1.000</td>\n",
       "      <td>0.791</td>\n",
       "      <td>0.439</td>\n",
       "      <td>-0.199</td>\n",
       "      <td>-0.883</td>\n",
       "      <td>-1.000</td>\n",
       "      <td>-1.0</td>\n",
       "      <td>NaN</td>\n",
       "    </tr>\n",
       "  </tbody>\n",
       "</table>\n",
       "<p>5 rows × 258 columns</p>\n",
       "</div>"
      ],
      "text/plain": [
       "   label    1    2    3      4      5      6      7      8      9  ...    248  \\\n",
       "0    6.0 -1.0 -1.0 -1.0 -1.000 -1.000 -1.000 -1.000 -0.631  0.862  ...  0.823   \n",
       "1    5.0 -1.0 -1.0 -1.0 -0.813 -0.671 -0.809 -0.887 -0.671 -0.853  ... -0.671   \n",
       "2    4.0 -1.0 -1.0 -1.0 -1.000 -1.000 -1.000 -1.000 -1.000 -1.000  ... -1.000   \n",
       "3    7.0 -1.0 -1.0 -1.0 -1.000 -1.000 -0.273  0.684  0.960  0.450  ...  1.000   \n",
       "4    3.0 -1.0 -1.0 -1.0 -1.000 -1.000 -0.928 -0.204  0.751  0.466  ...  0.639   \n",
       "\n",
       "     249    250    251    252    253    254    255  256  257  \n",
       "0  1.000  0.482 -0.474 -0.991 -1.000 -1.000 -1.000 -1.0  NaN  \n",
       "1 -0.033  0.761  0.762  0.126 -0.095 -0.671 -0.828 -1.0  NaN  \n",
       "2 -1.000 -0.109  1.000 -0.179 -1.000 -1.000 -1.000 -1.0  NaN  \n",
       "3  0.536 -0.987 -1.000 -1.000 -1.000 -1.000 -1.000 -1.0  NaN  \n",
       "4  1.000  1.000  0.791  0.439 -0.199 -0.883 -1.000 -1.0  NaN  \n",
       "\n",
       "[5 rows x 258 columns]"
      ]
     },
     "execution_count": 75,
     "metadata": {},
     "output_type": "execute_result"
    }
   ],
   "source": [
    "train_df.head()"
   ]
  },
  {
   "cell_type": "markdown",
   "id": "accessory-boost",
   "metadata": {},
   "source": [
    "#### Drop extra columns"
   ]
  },
  {
   "cell_type": "code",
   "execution_count": 76,
   "id": "violent-royalty",
   "metadata": {},
   "outputs": [],
   "source": [
    "train_df = train_df.dropna(axis=1)\n",
    "test_df = test_df.dropna(axis=1)"
   ]
  },
  {
   "cell_type": "code",
   "execution_count": 77,
   "id": "ordinary-failing",
   "metadata": {},
   "outputs": [
    {
     "data": {
      "text/html": [
       "<div>\n",
       "<style scoped>\n",
       "    .dataframe tbody tr th:only-of-type {\n",
       "        vertical-align: middle;\n",
       "    }\n",
       "\n",
       "    .dataframe tbody tr th {\n",
       "        vertical-align: top;\n",
       "    }\n",
       "\n",
       "    .dataframe thead th {\n",
       "        text-align: right;\n",
       "    }\n",
       "</style>\n",
       "<table border=\"1\" class=\"dataframe\">\n",
       "  <thead>\n",
       "    <tr style=\"text-align: right;\">\n",
       "      <th></th>\n",
       "      <th>label</th>\n",
       "      <th>1</th>\n",
       "      <th>2</th>\n",
       "      <th>3</th>\n",
       "      <th>4</th>\n",
       "      <th>5</th>\n",
       "      <th>6</th>\n",
       "      <th>7</th>\n",
       "      <th>8</th>\n",
       "      <th>9</th>\n",
       "      <th>...</th>\n",
       "      <th>247</th>\n",
       "      <th>248</th>\n",
       "      <th>249</th>\n",
       "      <th>250</th>\n",
       "      <th>251</th>\n",
       "      <th>252</th>\n",
       "      <th>253</th>\n",
       "      <th>254</th>\n",
       "      <th>255</th>\n",
       "      <th>256</th>\n",
       "    </tr>\n",
       "  </thead>\n",
       "  <tbody>\n",
       "    <tr>\n",
       "      <th>0</th>\n",
       "      <td>6.0</td>\n",
       "      <td>-1.0</td>\n",
       "      <td>-1.0</td>\n",
       "      <td>-1.0</td>\n",
       "      <td>-1.000</td>\n",
       "      <td>-1.000</td>\n",
       "      <td>-1.000</td>\n",
       "      <td>-1.000</td>\n",
       "      <td>-0.631</td>\n",
       "      <td>0.862</td>\n",
       "      <td>...</td>\n",
       "      <td>0.304</td>\n",
       "      <td>0.823</td>\n",
       "      <td>1.000</td>\n",
       "      <td>0.482</td>\n",
       "      <td>-0.474</td>\n",
       "      <td>-0.991</td>\n",
       "      <td>-1.000</td>\n",
       "      <td>-1.000</td>\n",
       "      <td>-1.000</td>\n",
       "      <td>-1.0</td>\n",
       "    </tr>\n",
       "    <tr>\n",
       "      <th>1</th>\n",
       "      <td>5.0</td>\n",
       "      <td>-1.0</td>\n",
       "      <td>-1.0</td>\n",
       "      <td>-1.0</td>\n",
       "      <td>-0.813</td>\n",
       "      <td>-0.671</td>\n",
       "      <td>-0.809</td>\n",
       "      <td>-0.887</td>\n",
       "      <td>-0.671</td>\n",
       "      <td>-0.853</td>\n",
       "      <td>...</td>\n",
       "      <td>-0.671</td>\n",
       "      <td>-0.671</td>\n",
       "      <td>-0.033</td>\n",
       "      <td>0.761</td>\n",
       "      <td>0.762</td>\n",
       "      <td>0.126</td>\n",
       "      <td>-0.095</td>\n",
       "      <td>-0.671</td>\n",
       "      <td>-0.828</td>\n",
       "      <td>-1.0</td>\n",
       "    </tr>\n",
       "    <tr>\n",
       "      <th>2</th>\n",
       "      <td>4.0</td>\n",
       "      <td>-1.0</td>\n",
       "      <td>-1.0</td>\n",
       "      <td>-1.0</td>\n",
       "      <td>-1.000</td>\n",
       "      <td>-1.000</td>\n",
       "      <td>-1.000</td>\n",
       "      <td>-1.000</td>\n",
       "      <td>-1.000</td>\n",
       "      <td>-1.000</td>\n",
       "      <td>...</td>\n",
       "      <td>-1.000</td>\n",
       "      <td>-1.000</td>\n",
       "      <td>-1.000</td>\n",
       "      <td>-0.109</td>\n",
       "      <td>1.000</td>\n",
       "      <td>-0.179</td>\n",
       "      <td>-1.000</td>\n",
       "      <td>-1.000</td>\n",
       "      <td>-1.000</td>\n",
       "      <td>-1.0</td>\n",
       "    </tr>\n",
       "    <tr>\n",
       "      <th>3</th>\n",
       "      <td>7.0</td>\n",
       "      <td>-1.0</td>\n",
       "      <td>-1.0</td>\n",
       "      <td>-1.0</td>\n",
       "      <td>-1.000</td>\n",
       "      <td>-1.000</td>\n",
       "      <td>-0.273</td>\n",
       "      <td>0.684</td>\n",
       "      <td>0.960</td>\n",
       "      <td>0.450</td>\n",
       "      <td>...</td>\n",
       "      <td>-0.318</td>\n",
       "      <td>1.000</td>\n",
       "      <td>0.536</td>\n",
       "      <td>-0.987</td>\n",
       "      <td>-1.000</td>\n",
       "      <td>-1.000</td>\n",
       "      <td>-1.000</td>\n",
       "      <td>-1.000</td>\n",
       "      <td>-1.000</td>\n",
       "      <td>-1.0</td>\n",
       "    </tr>\n",
       "    <tr>\n",
       "      <th>4</th>\n",
       "      <td>3.0</td>\n",
       "      <td>-1.0</td>\n",
       "      <td>-1.0</td>\n",
       "      <td>-1.0</td>\n",
       "      <td>-1.000</td>\n",
       "      <td>-1.000</td>\n",
       "      <td>-0.928</td>\n",
       "      <td>-0.204</td>\n",
       "      <td>0.751</td>\n",
       "      <td>0.466</td>\n",
       "      <td>...</td>\n",
       "      <td>0.466</td>\n",
       "      <td>0.639</td>\n",
       "      <td>1.000</td>\n",
       "      <td>1.000</td>\n",
       "      <td>0.791</td>\n",
       "      <td>0.439</td>\n",
       "      <td>-0.199</td>\n",
       "      <td>-0.883</td>\n",
       "      <td>-1.000</td>\n",
       "      <td>-1.0</td>\n",
       "    </tr>\n",
       "  </tbody>\n",
       "</table>\n",
       "<p>5 rows × 257 columns</p>\n",
       "</div>"
      ],
      "text/plain": [
       "   label    1    2    3      4      5      6      7      8      9  ...    247  \\\n",
       "0    6.0 -1.0 -1.0 -1.0 -1.000 -1.000 -1.000 -1.000 -0.631  0.862  ...  0.304   \n",
       "1    5.0 -1.0 -1.0 -1.0 -0.813 -0.671 -0.809 -0.887 -0.671 -0.853  ... -0.671   \n",
       "2    4.0 -1.0 -1.0 -1.0 -1.000 -1.000 -1.000 -1.000 -1.000 -1.000  ... -1.000   \n",
       "3    7.0 -1.0 -1.0 -1.0 -1.000 -1.000 -0.273  0.684  0.960  0.450  ... -0.318   \n",
       "4    3.0 -1.0 -1.0 -1.0 -1.000 -1.000 -0.928 -0.204  0.751  0.466  ...  0.466   \n",
       "\n",
       "     248    249    250    251    252    253    254    255  256  \n",
       "0  0.823  1.000  0.482 -0.474 -0.991 -1.000 -1.000 -1.000 -1.0  \n",
       "1 -0.671 -0.033  0.761  0.762  0.126 -0.095 -0.671 -0.828 -1.0  \n",
       "2 -1.000 -1.000 -0.109  1.000 -0.179 -1.000 -1.000 -1.000 -1.0  \n",
       "3  1.000  0.536 -0.987 -1.000 -1.000 -1.000 -1.000 -1.000 -1.0  \n",
       "4  0.639  1.000  1.000  0.791  0.439 -0.199 -0.883 -1.000 -1.0  \n",
       "\n",
       "[5 rows x 257 columns]"
      ]
     },
     "execution_count": 77,
     "metadata": {},
     "output_type": "execute_result"
    }
   ],
   "source": [
    "train_df.head()"
   ]
  },
  {
   "cell_type": "markdown",
   "id": "ancient-ozone",
   "metadata": {},
   "source": [
    "We can see from output above: column with nan values is gone. We now have an image array of length 256(16x16)."
   ]
  },
  {
   "cell_type": "code",
   "execution_count": 93,
   "id": "massive-provider",
   "metadata": {},
   "outputs": [],
   "source": [
    "to_train_labels = [2, 3]\n",
    "train_df = train_df.loc[[idx for idx in train_df.index if train_df.loc[idx, \"label\"] in to_train_labels], :]\n",
    "test_df = test_df.loc[[idx for idx in test_df.index if test_df.loc[idx, \"label\"] in to_train_labels], :]"
   ]
  },
  {
   "cell_type": "markdown",
   "id": "patient-medline",
   "metadata": {},
   "source": [
    "### Visualise the data"
   ]
  },
  {
   "cell_type": "code",
   "execution_count": 128,
   "id": "pending-notion",
   "metadata": {},
   "outputs": [],
   "source": [
    "def plot_digit(num, arr):\n",
    "    arr = np.reshape(arr, (-1, 16, 16))\n",
    "    fig = plt.figure(figsize=(10,5))\n",
    "    axes = fig.subplots(1, arr.shape[0])\n",
    "\n",
    "    if isinstance(axes, np.ndarray):\n",
    "        axes = axes.ravel()\n",
    "    else:\n",
    "        axes = [axes]\n",
    "        \n",
    "    for i in range(arr.shape[0]):\n",
    "        ax = axes[i]\n",
    "        ax.imshow(arr[i], cmap=\"gray\")\n",
    "        ax.set_title(f\"sample no: {i}\")\n",
    "    fig.suptitle(f\"Samples for: {num}\")"
   ]
  },
  {
   "cell_type": "code",
   "execution_count": 129,
   "id": "herbal-terrorist",
   "metadata": {},
   "outputs": [
    {
     "data": {
      "image/png": "[encoded data removed]",
      "text/plain": [
       "<Figure size 720x360 with 4 Axes>"
      ]
     },
     "metadata": {
      "needs_background": "light"
     },
     "output_type": "display_data"
    },
    {
     "data": {
      "image/png": "[encoded data removed]",
      "text/plain": [
       "<Figure size 720x360 with 4 Axes>"
      ]
     },
     "metadata": {
      "needs_background": "light"
     },
     "output_type": "display_data"
    }
   ],
   "source": [
    "plot_each = 4\n",
    "for num in train_df.loc[:, \"label\"].unique():\n",
    "    arrs = train_df.loc[train_df.loc[:, \"label\"]==num, :].drop(\"label\", axis=1).sample(n=plot_each).values\n",
    "    plot_digit(num, arrs)"
   ]
  },
  {
   "cell_type": "markdown",
   "id": "breathing-triumph",
   "metadata": {},
   "source": [
    "### Visualise target distribution"
   ]
  },
  {
   "cell_type": "code",
   "execution_count": 144,
   "id": "designing-chair",
   "metadata": {},
   "outputs": [
    {
     "name": "stderr",
     "output_type": "stream",
     "text": [
      "<ipython-input-144-caae3ae640f2>:17: UserWarning: Matplotlib is currently using module://ipykernel.pylab.backend_inline, which is a non-GUI backend, so cannot show the figure.\n",
      "  fig.show()\n"
     ]
    },
    {
     "data": {
      "image/png": "[encoded data removed]",
      "text/plain": [
       "<Figure size 360x360 with 1 Axes>"
      ]
     },
     "metadata": {
      "needs_background": "light"
     },
     "output_type": "display_data"
    }
   ],
   "source": [
    "fig = plt.figure(figsize=(5, 5))\n",
    "ax = fig.subplots(1)\n",
    "\n",
    "counts = train_df.loc[:, \"label\"].value_counts()\n",
    "x_corr = [i for i in range(len(counts.keys()))]\n",
    "ax.bar(x_corr, counts.values)\n",
    "\n",
    "ax.set_title(\"Target distribution graph\")\n",
    "ax.set_xlabel(\"Digits\")\n",
    "ax.set_ylabel(\"Count\")\n",
    "\n",
    "ax.set_xticks(x_corr)\n",
    "ax.set_xticklabels(counts.keys())\n",
    "ax.grid()\n",
    "\n",
    "fig.tight_layout()\n",
    "fig.show()"
   ]
  },
  {
   "cell_type": "markdown",
   "id": "chemical-pantyhose",
   "metadata": {},
   "source": [
    "### Get training and test data pairs"
   ]
  },
  {
   "cell_type": "code",
   "execution_count": 147,
   "id": "assisted-victorian",
   "metadata": {},
   "outputs": [],
   "source": [
    "X_train, y_train = train_df.drop(\"label\", axis=1).values, train_df.loc[:, \"label\"].values\n",
    "X_test, y_test = test_df.drop(\"label\", axis=1).values, test_df.loc[:, \"label\"].values"
   ]
  },
  {
   "cell_type": "markdown",
   "id": "driven-michigan",
   "metadata": {},
   "source": [
    "# Training linear regression"
   ]
  },
  {
   "cell_type": "code",
   "execution_count": 157,
   "id": "sustained-technique",
   "metadata": {},
   "outputs": [],
   "source": [
    "metric = lambda y, y_p: metrics.mean_squared_error(y, y_p, squared=True)"
   ]
  },
  {
   "cell_type": "code",
   "execution_count": 148,
   "id": "buried-adventure",
   "metadata": {},
   "outputs": [
    {
     "data": {
      "text/plain": [
       "LinearRegression(n_jobs=-1)"
      ]
     },
     "execution_count": 148,
     "metadata": {},
     "output_type": "execute_result"
    }
   ],
   "source": [
    "reg = linear_model.LinearRegression(n_jobs=-1)\n",
    "reg.fit(X_train, y_train)"
   ]
  },
  {
   "cell_type": "code",
   "execution_count": 158,
   "id": "executive-dutch",
   "metadata": {},
   "outputs": [],
   "source": [
    "y_pred = reg.predict(X_test)\n",
    "test_error = metric(y_test, y_pred)\n",
    "\n",
    "y_pred = reg.predict(X_train)\n",
    "train_error = metric(y_train, y_pred)"
   ]
  },
  {
   "cell_type": "code",
   "execution_count": 160,
   "id": "combined-monkey",
   "metadata": {},
   "outputs": [
    {
     "name": "stdout",
     "output_type": "stream",
     "text": [
      "RMSE on train data: 0.024811721548711967 and test data: 0.1516653447157071 for linear regression\n"
     ]
    }
   ],
   "source": [
    "print(f\"RMSE on train data: {train_error} and test data: {test_error} for linear regression\")"
   ]
  },
  {
   "cell_type": "markdown",
   "id": "comic-victim",
   "metadata": {},
   "source": [
    "# KNN For K={1, 3, 5, 7}"
   ]
  },
  {
   "cell_type": "code",
   "execution_count": 162,
   "id": "wrapped-trouble",
   "metadata": {},
   "outputs": [
    {
     "name": "stdout",
     "output_type": "stream",
     "text": [
      "RMSE on train data: 0.0 and test_data: 0.024725274725274724 for K-nearest neighbors with K: 1\n",
      "RMSE on train data: 0.0035197184225261983 and test_data: 0.022893772893772892 for K-nearest neighbors with K: 3\n",
      "RMSE on train data: 0.0046076313894888405 and test_data: 0.022857142857142857 for K-nearest neighbors with K: 5\n",
      "RMSE on train data: 0.0053775289813549594 and test_data: 0.02354788069073784 for K-nearest neighbors with K: 7\n"
     ]
    }
   ],
   "source": [
    "set_k = {1, 3, 5, 7}\n",
    "for k in set_k:\n",
    "    reg = neighbors.KNeighborsRegressor(n_neighbors=k)\n",
    "    reg.fit(X_train, y_train)\n",
    "    \n",
    "    y_pred = reg.predict(X_test)\n",
    "    test_error = metric(y_test, y_pred)\n",
    "    y_pred = reg.predict(X_train)\n",
    "    train_error = metric(y_train, y_pred)\n",
    "    \n",
    "    print(f\"RMSE on train data: {train_error} and test_data: {test_error} for K-nearest neighbors with K: {k}\")"
   ]
  },
  {
   "cell_type": "code",
   "execution_count": null,
   "id": "global-arbor",
   "metadata": {},
   "outputs": [],
   "source": []
  }
 ],
 "metadata": {
  "kernelspec": {
   "display_name": "python3.8 basic_ml",
   "language": "python",
   "name": "basic_ml"
  },
  "language_info": {
   "codemirror_mode": {
    "name": "ipython",
    "version": 3
   },
   "file_extension": ".py",
   "mimetype": "text/x-python",
   "name": "python",
   "nbconvert_exporter": "python",
   "pygments_lexer": "ipython3",
   "version": "3.8.5"
  }
 },
 "nbformat": 4,
 "nbformat_minor": 5
}
